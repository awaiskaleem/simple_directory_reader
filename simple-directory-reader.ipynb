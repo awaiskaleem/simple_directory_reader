{
 "cells": [
  {
   "cell_type": "code",
   "execution_count": 3,
   "metadata": {},
   "outputs": [
    {
     "data": {
      "text/plain": [
       "True"
      ]
     },
     "execution_count": 3,
     "metadata": {},
     "output_type": "execute_result"
    }
   ],
   "source": [
    "import os\n",
    "import textwrap\n",
    "from llama_index.core import VectorStoreIndex, SimpleDirectoryReader, Document\n",
    "from deeplake.core.vectorstore import DeepLakeVectorStore\n",
    "\n",
    "\n",
    "# .env file should contain the following:\n",
    "## OPENAI_API_KEY=your_openai_api_key\n",
    "## DATA_DIR=your_data_dir\n",
    "## VECTORSTORE_PATH=your_vectorstore_path, can be any path where vectors will be stored\n",
    "\n",
    "from dotenv import load_dotenv\n",
    "load_dotenv('../.env') # replace with your .env file"
   ]
  },
  {
   "cell_type": "markdown",
   "metadata": {},
   "source": [
    "### Load documents\n",
    "`DATA_FOLDER_PATH` is the path where I have all my files. You can point this to a folder with your own documents."
   ]
  },
  {
   "cell_type": "code",
   "execution_count": 4,
   "metadata": {},
   "outputs": [],
   "source": [
    "documents = SimpleDirectoryReader(os.getenv('DATA_FOLDER_PATH')).load_data()"
   ]
  },
  {
   "cell_type": "markdown",
   "metadata": {},
   "source": [
    "### Creating Vector Store\n",
    "We will use [deeplake](https://github.com/activeloopai/deeplake?utm_source=deeplakeweb&utm_medium=web&utm_campaign=navbar&utm_id=deeplake) from Active Loop to create our vector store. This `DeepLakeVectorStore` is then converted into llama_index support context `StorageContext`. Then we will use llama_index's `VectorStoreIndex` to read documents and store them into our Vector Store through the Storage Context."
   ]
  },
  {
   "cell_type": "code",
   "execution_count": 11,
   "metadata": {},
   "outputs": [
    {
     "name": "stderr",
     "output_type": "stream",
     "text": []
    }
   ],
   "source": [
    "from llama_index.core import StorageContext\n",
    "\n",
    "dataset_path = os.getenv('VECTORSTORE_PATH') # this is where the vectors will be stored\n",
    "\n",
    "if not os.path.exists(dataset_path):\n",
    "    os.makedirs(dataset_path)\n",
    "\n",
    "# Create an index over the documents\n",
    "vector_store = DeepLakeVectorStore(path=dataset_path, overwrite=True)\n",
    "storage_context = StorageContext.from_defaults(vector_store=vector_store)\n",
    "index = VectorStoreIndex.from_documents(\n",
    "    documents, storage_context=storage_context\n",
    ")"
   ]
  },
  {
   "cell_type": "markdown",
   "metadata": {},
   "source": [
    "### Query Time\n",
    "Now that our documents are index and store in DeepLake's Vector Store, we can run queries on it."
   ]
  },
  {
   "cell_type": "code",
   "execution_count": 14,
   "metadata": {},
   "outputs": [
    {
     "name": "stdout",
     "output_type": "stream",
     "text": [
      "Muhammad Awais Kaleem is Awais.\n"
     ]
    }
   ],
   "source": [
    "query_engine = index.as_query_engine()\n",
    "response = query_engine.query(\n",
    "    \"Who is Awais?\",\n",
    ")\n",
    "print(textwrap.fill(str(response), 100))"
   ]
  }
 ],
 "metadata": {
  "kernelspec": {
   "display_name": "Python 3",
   "language": "python",
   "name": "python3"
  },
  "language_info": {
   "codemirror_mode": {
    "name": "ipython",
    "version": 3
   },
   "file_extension": ".py",
   "mimetype": "text/x-python",
   "name": "python",
   "nbconvert_exporter": "python",
   "pygments_lexer": "ipython3",
   "version": "3.10.13"
  }
 },
 "nbformat": 4,
 "nbformat_minor": 2
}
